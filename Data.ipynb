{
 "cells": [
  {
   "cell_type": "markdown",
   "metadata": {},
   "source": [
    "## Data Exploration\n",
    "\n",
    "I created the sample data by driving around the track in both directions between 3-4 times each side. The driving was done with keyboard for speed/acceleration and with the mouse for steering, since I noticed in earlier tries with the keyboard, that the steering angles where not smooth but very spikey. With the mouse input a much clearer turning angle could be achieved for the steering angle.\n",
    "\n",
    "The recorded data consists out of the path to left, center and right images, the steering angle (label), as well as general information as throttle, break and speed. For the CNN training all images will be used, as NVIDIA featured in their approach. \n",
    "The final model will only use the center image to determine a steering angle. \n",
    "\n",
    "Additionally the vehicle needs throttle to actually drive. The steering angle depends on the speed of the vehicle at the moment of steering. Higher speed results in a larger turning radius. The data was recorded at top speed (~30mph), so the correlation of speed/steering can be ignored. "
   ]
  },
  {
   "cell_type": "code",
   "execution_count": null,
   "metadata": {},
   "outputs": [],
   "source": [
    "import pandas as pd\n",
    "import matplotlib.pyplot as plt\n",
    "import matplotlib.image as mpimg\n",
    "import cv2\n",
    "import numpy as np\n",
    "from sklearn.utils import shuffle"
   ]
  },
  {
   "cell_type": "code",
   "execution_count": null,
   "metadata": {},
   "outputs": [],
   "source": [
    "# I had 4 seperate recordings, therefore merging them all into 1 dataframe\n",
    "\n",
    "df1 = pd.read_csv('1/driving_log.csv', header=None) \n",
    "df2 = pd.read_csv('2/driving_log.csv', header=None) \n",
    "df3 = pd.read_csv('3/driving_log.csv', header=None) \n",
    "df4 = pd.read_csv('4/driving_log.csv', header=None) \n",
    "\n",
    "df1.columns = ['C', 'L', 'R', 'Steering', 'Throttle', 'Break', 'Speed']\n",
    "df2.columns = ['C', 'L', 'R', 'Steering', 'Throttle', 'Break', 'Speed']\n",
    "df3.columns = ['C', 'L', 'R', 'Steering', 'Throttle', 'Break', 'Speed']\n",
    "df4.columns = ['C', 'L', 'R', 'Steering', 'Throttle', 'Break', 'Speed']\n",
    "\n",
    "# adjust path\n",
    "for col in ['C', 'L', 'R']:\n",
    "    df1[col] = ['1/IMG/' + i.split(\"\\\\\")[-1:][0] for i in df1[col]]\n",
    "for col in ['C', 'L', 'R']:\n",
    "    df2[col] = ['2/IMG/' + i.split(\"\\\\\")[-1:][0] for i in df2[col]]\n",
    "for col in ['C', 'L', 'R']:\n",
    "    df3[col] = ['3/IMG/' + i.split(\"\\\\\")[-1:][0] for i in df3[col]]\n",
    "for col in ['C', 'L', 'R']:\n",
    "    df4[col] = ['4/IMG/' + i.split(\"\\\\\")[-1:][0] for i in df4[col]]\n",
    "\n",
    "df = pd.concat([df1,df2,df3,df4])\n",
    "print(f'Total Observations: {len(df)}')"
   ]
  },
  {
   "cell_type": "markdown",
   "metadata": {},
   "source": [
    "As can be seen, there are a total of 21323 center images available. This count could later be increased by flipping the images and labels around and thereby doubling the total amount of training data. Therefore we could only check the absolute distribution. Additionally with an ImageDataGenerator by Keras, we can generalize the images with some augmentation during training."
   ]
  },
  {
   "cell_type": "code",
   "execution_count": null,
   "metadata": {},
   "outputs": [],
   "source": [
    "plt.hist(sorted([abs(i) for i in df['Steering']]), bins=150)\n",
    "plt.title('Distribution of Steering Angles')\n",
    "plt.show()"
   ]
  },
  {
   "cell_type": "code",
   "execution_count": null,
   "metadata": {},
   "outputs": [],
   "source": [
    "cols = 3\n",
    "rows = 3\n",
    "\n",
    "fig, ax = plt.subplots(cols,rows, dpi=160, figsize=(8,4))\n",
    "ax = ax.ravel()\n",
    "for i in range(cols*rows):\n",
    "    \n",
    "    img = mpimg.imread(df.iloc[i*1500]['C'])\n",
    "    angle = str(round(df.iloc[i*1500]['Steering'],6))\n",
    "    cv2.putText(img, angle,(50, 120),cv2.FONT_HERSHEY_SIMPLEX,1,(0, 255, 0),3)\n",
    "    \n",
    "    ax[i].axis('off')\n",
    "    ax[i].imshow(img)\n",
    "\n",
    "plt.show()"
   ]
  },
  {
   "cell_type": "markdown",
   "metadata": {},
   "source": [
    "After a short display of some images with the label on them, it can be clearly seen that left curves require a negative steering angle, wheras right curves require a positive angle. This information can be used to take left and right images into account when training the model, because the perspective in those images have a different center and are looking towards the outer edges. With a correction of ~0.25 the training data would triple and also feature another perspective."
   ]
  },
  {
   "cell_type": "markdown",
   "metadata": {},
   "source": [
    "As can be seen the steering angle ranges from 0-1, where 1 represents an 25° angle. The data is heavily skewed towards 0, therefore some kind of sampling needs to be applied to accurately represent curves. Therefore I create a linspace between 0 and 1 with 200 bins and sort each observation within those buckets. Afterwards I take a random sample of max 150 observations per bin (if bin has >150, else just all) and store those in a list. This list is then used to filter the dataframe for corresponding images."
   ]
  },
  {
   "cell_type": "code",
   "execution_count": null,
   "metadata": {},
   "outputs": [],
   "source": [
    "# bins\n",
    "bins = 200\n",
    "max_n_samples = 150\n",
    "space = np.linspace(0.0, 1.0, bins)\n",
    "\n",
    "# dict with every observation index\n",
    "d = {key:[] for key in space}\n",
    "l = [abs(i) for i in df['Steering']]\n",
    "\n",
    "for i in range(len(l)):    \n",
    "    for c in range(bins-1):\n",
    "        if space[c] <= l[i] < space[c+1]:\n",
    "            d[space[c]].append(i)\n",
    "\n",
    "# stores the selected dataframe index\n",
    "inds = []\n",
    "\n",
    "for key in d.keys():\n",
    "    if len(d[key]) >= max_n_samples:\n",
    "        for i in np.random.choice(d[key],max_n_samples):\n",
    "            inds.append(i)\n",
    "    else:\n",
    "        for i in d[key]:\n",
    "            inds.append(i)"
   ]
  },
  {
   "cell_type": "markdown",
   "metadata": {},
   "source": [
    "Afterwards I create the dataframe for the ImageDataGenerator. This features all the selected images within the bins created before.\n",
    "- take left, center and right image\n",
    "- add .25, 0, -.25 to create incentive to go back to the center of the road in the perspective\n",
    "- crop the image between 50:130 in the horizontal axis\n",
    "- save the images/dataframe to upload on server\n",
    "- shuffle dataframe"
   ]
  },
  {
   "cell_type": "code",
   "execution_count": null,
   "metadata": {},
   "outputs": [],
   "source": [
    "steerings = []\n",
    "counter = 0\n",
    "direction = ['L', 'C', 'R']\n",
    "direction_corr = [.25, 0, -.25]\n",
    "\n",
    "for index in inds:\n",
    "    for col in range(len(direction)):\n",
    "        img = mpimg.imread(df.iloc[index][direction[col]])[50:130,:,:]\n",
    "        mpimg.imsave(f'imgs_test/img_{counter}_{direction[col]}.jpg', img)\n",
    "        steerings.append([\n",
    "            f'imgs_test/img_{counter}_{direction[col]}.jpg',\n",
    "            df.iloc[index]['Steering'] + direction_corr[col]]\n",
    "        )\n",
    "        counter += 1\n",
    "        \n",
    "newdf = pd.DataFrame(steerings)\n",
    "newdf.columns = ['path', 'label']\n",
    "shuffle(newdf).to_csv('imgs/log.csv', index=False)"
   ]
  },
  {
   "cell_type": "code",
   "execution_count": null,
   "metadata": {},
   "outputs": [],
   "source": [
    "cols = 3\n",
    "rows = 3\n",
    "\n",
    "fig, ax = plt.subplots(cols,rows, dpi=160, figsize=(8,2))\n",
    "ax = ax.ravel()\n",
    "for i in range(cols*rows):\n",
    "    \n",
    "    img = mpimg.imread(newdf.iloc[i*1000]['path'])\n",
    "    angle = str(round(newdf.iloc[i*1000]['label'],6))\n",
    "    \n",
    "    cv2.putText(img, angle,(50, 50),cv2.FONT_HERSHEY_SIMPLEX,1,(0, 255, 0),3)\n",
    "    \n",
    "    ax[i].axis('off')\n",
    "    ax[i].imshow(img)\n",
    "\n",
    "plt.show()"
   ]
  },
  {
   "cell_type": "markdown",
   "metadata": {},
   "source": [
    "After saving all the images within a seperate directory, I got around 14000 images to start training the model. "
   ]
  }
 ],
 "metadata": {
  "kernelspec": {
   "display_name": "Python 3",
   "language": "python",
   "name": "python3"
  },
  "language_info": {
   "codemirror_mode": {
    "name": "ipython",
    "version": 3
   },
   "file_extension": ".py",
   "mimetype": "text/x-python",
   "name": "python",
   "nbconvert_exporter": "python",
   "pygments_lexer": "ipython3",
   "version": "3.7.4"
  }
 },
 "nbformat": 4,
 "nbformat_minor": 2
}
